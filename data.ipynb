{
 "cells": [
  {
   "cell_type": "code",
   "execution_count": 1,
   "metadata": {},
   "outputs": [
    {
     "name": "stdout",
     "output_type": "stream",
     "text": [
      "--2021-03-16 16:36:55--  https://raw.githubusercontent.com/jupyterhub/binder-data/master/billing/data/proc/data.json\r\n",
      "Resolving raw.githubusercontent.com (raw.githubusercontent.com)... 185.199.108.133, 185.199.109.133, 185.199.110.133, ...\r\n",
      "Connecting to raw.githubusercontent.com (raw.githubusercontent.com)|185.199.108.133|:443... connected.\r\n",
      "HTTP request sent, awaiting response... "
     ]
    },
    {
     "name": "stdout",
     "output_type": "stream",
     "text": [
      "200 OK\r\n",
      "Length: 19341674 (18M) [text/plain]\r\n",
      "Saving to: ‘price_data.json’\r\n",
      "\r\n",
      "\r",
      "price_data.json       0%[                    ]       0  --.-KB/s               "
     ]
    },
    {
     "name": "stdout",
     "output_type": "stream",
     "text": [
      "\r",
      "price_data.json      66%[============>       ]  12.30M  61.2MB/s               "
     ]
    },
    {
     "name": "stdout",
     "output_type": "stream",
     "text": [
      "\r",
      "price_data.json     100%[===================>]  18.45M  79.6MB/s    in 0.2s    \r\n",
      "\r\n",
      "2021-03-16 16:36:56 (79.6 MB/s) - ‘price_data.json’ saved [19341674/19341674]\r\n",
      "\r\n"
     ]
    }
   ],
   "source": [
    "!wget https://raw.githubusercontent.com/jupyterhub/binder-data/master/billing/data/proc/data.json -O price_data.json"
   ]
  },
  {
   "cell_type": "code",
   "execution_count": 2,
   "metadata": {},
   "outputs": [],
   "source": [
    "import pandas as pd\n",
    "import json\n",
    "import orchest\n",
    "%config InlineBackend.figure_format = 'retina'"
   ]
  },
  {
   "cell_type": "code",
   "execution_count": 3,
   "metadata": {},
   "outputs": [],
   "source": [
    "with open(\"price_data.json\", \"r\") as f:\n",
    "    data = json.load(f)"
   ]
  },
  {
   "cell_type": "code",
   "execution_count": 4,
   "metadata": {},
   "outputs": [],
   "source": [
    "df = pd.DataFrame(data['data'])"
   ]
  },
  {
   "cell_type": "code",
   "execution_count": 5,
   "metadata": {},
   "outputs": [
    {
     "data": {
      "text/html": [
       "<div>\n",
       "<style scoped>\n",
       "    .dataframe tbody tr th:only-of-type {\n",
       "        vertical-align: middle;\n",
       "    }\n",
       "\n",
       "    .dataframe tbody tr th {\n",
       "        vertical-align: top;\n",
       "    }\n",
       "\n",
       "    .dataframe thead th {\n",
       "        text-align: right;\n",
       "    }\n",
       "</style>\n",
       "<table border=\"1\" class=\"dataframe\">\n",
       "  <thead>\n",
       "    <tr style=\"text-align: right;\">\n",
       "      <th></th>\n",
       "      <th>0</th>\n",
       "      <th>1</th>\n",
       "      <th>2</th>\n",
       "      <th>3</th>\n",
       "      <th>4</th>\n",
       "      <th>5</th>\n",
       "    </tr>\n",
       "  </thead>\n",
       "  <tbody>\n",
       "    <tr>\n",
       "      <th>0</th>\n",
       "      <td>binder-staging</td>\n",
       "      <td>1513123200000</td>\n",
       "      <td>0.000005</td>\n",
       "      <td>NetworkInternetEgressNaNa</td>\n",
       "      <td>Network Internet Egress from Americas to Americas</td>\n",
       "      <td>compute-engine</td>\n",
       "    </tr>\n",
       "    <tr>\n",
       "      <th>1</th>\n",
       "      <td>binder-prod</td>\n",
       "      <td>1513123200000</td>\n",
       "      <td>0.000000</td>\n",
       "      <td>Licensed1001010CoreRange_1_OrMore</td>\n",
       "      <td>Licensing Fee for Container-Optimized OS from ...</td>\n",
       "      <td>compute-engine</td>\n",
       "    </tr>\n",
       "    <tr>\n",
       "      <th>2</th>\n",
       "      <td>binder-staging</td>\n",
       "      <td>1513123200000</td>\n",
       "      <td>0.089492</td>\n",
       "      <td>ForwardingRuleChargeBase</td>\n",
       "      <td>Network Load Balancing: Forwarding Rule Minimu...</td>\n",
       "      <td>compute-engine</td>\n",
       "    </tr>\n",
       "    <tr>\n",
       "      <th>3</th>\n",
       "      <td>binder-staging</td>\n",
       "      <td>1513123200000</td>\n",
       "      <td>0.000000</td>\n",
       "      <td>NetworkInterConnectIngressNa</td>\n",
       "      <td>Network Ingress via Peered/Interconnect Networ...</td>\n",
       "      <td>compute-engine</td>\n",
       "    </tr>\n",
       "    <tr>\n",
       "      <th>4</th>\n",
       "      <td>binder-prod</td>\n",
       "      <td>1513123200000</td>\n",
       "      <td>0.000000</td>\n",
       "      <td>Licensed1001010Core</td>\n",
       "      <td>Licensing Fee for Container-Optimized OS from ...</td>\n",
       "      <td>compute-engine</td>\n",
       "    </tr>\n",
       "  </tbody>\n",
       "</table>\n",
       "</div>"
      ],
      "text/plain": [
       "                0              1         2                                  3  \\\n",
       "0  binder-staging  1513123200000  0.000005          NetworkInternetEgressNaNa   \n",
       "1     binder-prod  1513123200000  0.000000  Licensed1001010CoreRange_1_OrMore   \n",
       "2  binder-staging  1513123200000  0.089492           ForwardingRuleChargeBase   \n",
       "3  binder-staging  1513123200000  0.000000       NetworkInterConnectIngressNa   \n",
       "4     binder-prod  1513123200000  0.000000                Licensed1001010Core   \n",
       "\n",
       "                                                   4               5  \n",
       "0  Network Internet Egress from Americas to Americas  compute-engine  \n",
       "1  Licensing Fee for Container-Optimized OS from ...  compute-engine  \n",
       "2  Network Load Balancing: Forwarding Rule Minimu...  compute-engine  \n",
       "3  Network Ingress via Peered/Interconnect Networ...  compute-engine  \n",
       "4  Licensing Fee for Container-Optimized OS from ...  compute-engine  "
      ]
     },
     "execution_count": 5,
     "metadata": {},
     "output_type": "execute_result"
    }
   ],
   "source": [
    "df.head()"
   ]
  },
  {
   "cell_type": "code",
   "execution_count": 6,
   "metadata": {},
   "outputs": [],
   "source": [
    "df['date'] = pd.to_datetime((df[1] / 1000).astype(int), unit='s')"
   ]
  },
  {
   "cell_type": "code",
   "execution_count": 7,
   "metadata": {},
   "outputs": [
    {
     "data": {
      "text/html": [
       "<div>\n",
       "<style scoped>\n",
       "    .dataframe tbody tr th:only-of-type {\n",
       "        vertical-align: middle;\n",
       "    }\n",
       "\n",
       "    .dataframe tbody tr th {\n",
       "        vertical-align: top;\n",
       "    }\n",
       "\n",
       "    .dataframe thead th {\n",
       "        text-align: right;\n",
       "    }\n",
       "</style>\n",
       "<table border=\"1\" class=\"dataframe\">\n",
       "  <thead>\n",
       "    <tr style=\"text-align: right;\">\n",
       "      <th></th>\n",
       "      <th>0</th>\n",
       "      <th>1</th>\n",
       "      <th>2</th>\n",
       "      <th>3</th>\n",
       "      <th>4</th>\n",
       "      <th>5</th>\n",
       "      <th>date</th>\n",
       "    </tr>\n",
       "  </thead>\n",
       "  <tbody>\n",
       "    <tr>\n",
       "      <th>0</th>\n",
       "      <td>binder-staging</td>\n",
       "      <td>1513123200000</td>\n",
       "      <td>0.000005</td>\n",
       "      <td>NetworkInternetEgressNaNa</td>\n",
       "      <td>Network Internet Egress from Americas to Americas</td>\n",
       "      <td>compute-engine</td>\n",
       "      <td>2017-12-13</td>\n",
       "    </tr>\n",
       "    <tr>\n",
       "      <th>1</th>\n",
       "      <td>binder-prod</td>\n",
       "      <td>1513123200000</td>\n",
       "      <td>0.000000</td>\n",
       "      <td>Licensed1001010CoreRange_1_OrMore</td>\n",
       "      <td>Licensing Fee for Container-Optimized OS from ...</td>\n",
       "      <td>compute-engine</td>\n",
       "      <td>2017-12-13</td>\n",
       "    </tr>\n",
       "    <tr>\n",
       "      <th>2</th>\n",
       "      <td>binder-staging</td>\n",
       "      <td>1513123200000</td>\n",
       "      <td>0.089492</td>\n",
       "      <td>ForwardingRuleChargeBase</td>\n",
       "      <td>Network Load Balancing: Forwarding Rule Minimu...</td>\n",
       "      <td>compute-engine</td>\n",
       "      <td>2017-12-13</td>\n",
       "    </tr>\n",
       "    <tr>\n",
       "      <th>3</th>\n",
       "      <td>binder-staging</td>\n",
       "      <td>1513123200000</td>\n",
       "      <td>0.000000</td>\n",
       "      <td>NetworkInterConnectIngressNa</td>\n",
       "      <td>Network Ingress via Peered/Interconnect Networ...</td>\n",
       "      <td>compute-engine</td>\n",
       "      <td>2017-12-13</td>\n",
       "    </tr>\n",
       "    <tr>\n",
       "      <th>4</th>\n",
       "      <td>binder-prod</td>\n",
       "      <td>1513123200000</td>\n",
       "      <td>0.000000</td>\n",
       "      <td>Licensed1001010Core</td>\n",
       "      <td>Licensing Fee for Container-Optimized OS from ...</td>\n",
       "      <td>compute-engine</td>\n",
       "      <td>2017-12-13</td>\n",
       "    </tr>\n",
       "  </tbody>\n",
       "</table>\n",
       "</div>"
      ],
      "text/plain": [
       "                0              1         2                                  3  \\\n",
       "0  binder-staging  1513123200000  0.000005          NetworkInternetEgressNaNa   \n",
       "1     binder-prod  1513123200000  0.000000  Licensed1001010CoreRange_1_OrMore   \n",
       "2  binder-staging  1513123200000  0.089492           ForwardingRuleChargeBase   \n",
       "3  binder-staging  1513123200000  0.000000       NetworkInterConnectIngressNa   \n",
       "4     binder-prod  1513123200000  0.000000                Licensed1001010Core   \n",
       "\n",
       "                                                   4               5  \\\n",
       "0  Network Internet Egress from Americas to Americas  compute-engine   \n",
       "1  Licensing Fee for Container-Optimized OS from ...  compute-engine   \n",
       "2  Network Load Balancing: Forwarding Rule Minimu...  compute-engine   \n",
       "3  Network Ingress via Peered/Interconnect Networ...  compute-engine   \n",
       "4  Licensing Fee for Container-Optimized OS from ...  compute-engine   \n",
       "\n",
       "        date  \n",
       "0 2017-12-13  \n",
       "1 2017-12-13  \n",
       "2 2017-12-13  \n",
       "3 2017-12-13  \n",
       "4 2017-12-13  "
      ]
     },
     "execution_count": 7,
     "metadata": {},
     "output_type": "execute_result"
    }
   ],
   "source": [
    "df.head()"
   ]
  },
  {
   "cell_type": "code",
   "execution_count": 8,
   "metadata": {},
   "outputs": [],
   "source": [
    "orchest.output(df, name='df')"
   ]
  }
 ],
 "metadata": {
  "kernelspec": {
   "display_name": "Python 3",
   "language": "python",
   "name": "orchest-kernel-f9daa8f5-f178-4cea-bc46-683581e9e0c5"
  },
  "language_info": {
   "codemirror_mode": {
    "name": "ipython",
    "version": 3
   },
   "file_extension": ".py",
   "mimetype": "text/x-python",
   "name": "python",
   "nbconvert_exporter": "python",
   "pygments_lexer": "ipython3",
   "version": "3.7.6"
  }
 },
 "nbformat": 4,
 "nbformat_minor": 4
}
